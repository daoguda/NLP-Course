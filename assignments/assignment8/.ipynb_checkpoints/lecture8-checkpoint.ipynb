{
 "cells": [
  {
   "cell_type": "markdown",
   "metadata": {},
   "source": [
    "### Reasons of Overfitting and underfitting"
   ]
  },
  {
   "cell_type": "markdown",
   "metadata": {},
   "source": [
    "#### Overfitting"
   ]
  },
  {
   "cell_type": "markdown",
   "metadata": {},
   "source": [
    "- 训练集的数量级小于模型的复杂度\n",
    "- 训练集和测试集的特征分布不一致\n",
    "- 样本里噪声数据过大，导致模型仅记忆了噪声的关系，反而忘记了真实特征的关系\n",
    "- 权值学习迭代次数足够多，拟合了样本中的噪声数据和没有代表性的特征\n",
    "- 神经元过于密集\n",
    "- 学习树过深\n",
    "- 模型假设不成立"
   ]
  },
  {
   "cell_type": "markdown",
   "metadata": {},
   "source": [
    "#### Overfitting Solution"
   ]
  },
  {
   "cell_type": "markdown",
   "metadata": {},
   "source": [
    "- simpler model structure 调小模型复杂度，使其适合自己的训练数据集（缩小宽度和深度)\n",
    "- data augmentation 训练集越多，过拟合的概率越小。在计算机视觉领域中，增广的方式是对图像旋转，缩放，剪裁，添加噪声等。\n",
    "- regularization 参数太多会导致模型的复杂度上升，容易过拟合。正则化是通过引入额外信息来解决过拟合问题，这种额外信息通常是模型复杂带来的惩罚度。\n",
    "    - L0、L1范数\n",
    "    - 参数稀疏的好处\n",
    "        - 特征选择\n",
    "        - 可解释性\n",
    "    - L2范数\n",
    "- dropout方法 通俗讲是让一定的神经元以一定的概率不工作\n",
    "- early stopping 一种迭代次数截断的方法\n",
    "- ensemble 集成学习"
   ]
  },
  {
   "cell_type": "markdown",
   "metadata": {},
   "source": [
    "### Underfitting"
   ]
  },
  {
   "cell_type": "markdown",
   "metadata": {},
   "source": [
    "- 模型复杂度过低\n",
    "- 特征量过少"
   ]
  },
  {
   "cell_type": "markdown",
   "metadata": {},
   "source": [
    "#### Underfitting Solution"
   ]
  },
  {
   "cell_type": "markdown",
   "metadata": {},
   "source": [
    "- 增加新特征\n",
    "- 添加多项式特征\n",
    "- 减少正则化参数\n",
    "- 使用非线性模型\n",
    "- 调整模型的容量"
   ]
  },
  {
   "cell_type": "code",
   "execution_count": 9,
   "metadata": {},
   "outputs": [
    {
     "name": "stderr",
     "output_type": "stream",
     "text": [
      "Using TensorFlow backend.\n"
     ]
    }
   ],
   "source": [
    "import numpy, sklearn, keras, tensorflow"
   ]
  },
  {
   "cell_type": "markdown",
   "metadata": {},
   "source": [
    "### three scenes that machine learning has used now"
   ]
  },
  {
   "cell_type": "markdown",
   "metadata": {},
   "source": [
    "- 输入法词汇短语自动补全\n",
    "- 无人驾驶路线修正\n",
    "- 盒马生鲜商品自动更新"
   ]
  },
  {
   "cell_type": "markdown",
   "metadata": {},
   "source": [
    "#### three new scenes with which machine learning may be applied"
   ]
  },
  {
   "cell_type": "markdown",
   "metadata": {},
   "source": [
    "- 显示器高度自动调节（脖子疼）\n",
    "- 鱼缸中补氧装置氧气量自动调节\n",
    "- 根据个人学习基础与学习目标自动生产培训课程，由机器人教授"
   ]
  }
 ],
 "metadata": {
  "kernelspec": {
   "display_name": "Python 3",
   "language": "python",
   "name": "python3"
  },
  "language_info": {
   "codemirror_mode": {
    "name": "ipython",
    "version": 3
   },
   "file_extension": ".py",
   "mimetype": "text/x-python",
   "name": "python",
   "nbconvert_exporter": "python",
   "pygments_lexer": "ipython3",
   "version": "3.5.2"
  }
 },
 "nbformat": 4,
 "nbformat_minor": 2
}
