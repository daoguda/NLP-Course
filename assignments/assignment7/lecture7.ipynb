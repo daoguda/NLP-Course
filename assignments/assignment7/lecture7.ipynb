{
 "cells": [
  {
   "cell_type": "markdown",
   "metadata": {},
   "source": [
    "## Lecture7 Information Retrieval"
   ]
  },
  {
   "cell_type": "code",
   "execution_count": 1,
   "metadata": {},
   "outputs": [],
   "source": [
    "file_base = \"\""
   ]
  },
  {
   "cell_type": "code",
   "execution_count": 2,
   "metadata": {},
   "outputs": [],
   "source": [
    "import os"
   ]
  },
  {
   "cell_type": "code",
   "execution_count": 3,
   "metadata": {},
   "outputs": [
    {
     "ename": "SyntaxError",
     "evalue": "invalid syntax (<ipython-input-3-0d2aaad2ded4>, line 1)",
     "output_type": "error",
     "traceback": [
      "\u001b[0;36m  File \u001b[0;32m\"<ipython-input-3-0d2aaad2ded4>\"\u001b[0;36m, line \u001b[0;32m1\u001b[0m\n\u001b[0;31m    os.listdir(.)\u001b[0m\n\u001b[0m               ^\u001b[0m\n\u001b[0;31mSyntaxError\u001b[0m\u001b[0;31m:\u001b[0m invalid syntax\n"
     ]
    }
   ],
   "source": [
    "os.listdir(.)"
   ]
  },
  {
   "cell_type": "markdown",
   "metadata": {},
   "source": [
    "### Task, Build a search engine input:some words ouput: some documents"
   ]
  },
  {
   "cell_type": "code",
   "execution_count": 1,
   "metadata": {},
   "outputs": [
    {
     "name": "stdout",
     "output_type": "stream",
     "text": [
      "processor\t: 0\r\n",
      "vendor_id\t: GenuineIntel\r\n",
      "cpu family\t: 6\r\n",
      "model\t\t: 60\r\n",
      "model name\t: Intel(R) Core(TM) i5-4200M CPU @ 2.50GHz\r\n",
      "stepping\t: 3\r\n",
      "microcode\t: 0x25\r\n",
      "cpu MHz\t\t: 2494.236\r\n",
      "cache size\t: 3072 KB\r\n",
      "physical id\t: 0\r\n",
      "siblings\t: 4\r\n",
      "core id\t\t: 0\r\n",
      "cpu cores\t: 2\r\n",
      "apicid\t\t: 0\r\n",
      "initial apicid\t: 0\r\n",
      "fpu\t\t: yes\r\n",
      "fpu_exception\t: yes\r\n",
      "cpuid level\t: 13\r\n",
      "wp\t\t: yes\r\n",
      "flags\t\t: fpu vme de pse tsc msr pae mce cx8 apic sep mtrr pge mca cmov pat pse36 clflush dts acpi mmx fxsr sse sse2 ss ht tm pbe syscall nx pdpe1gb rdtscp lm constant_tsc arch_perfmon pebs bts rep_good nopl xtopology nonstop_tsc cpuid aperfmperf pni pclmulqdq dtes64 monitor ds_cpl vmx est tm2 ssse3 sdbg fma cx16 xtpr pdcm pcid sse4_1 sse4_2 movbe popcnt tsc_deadline_timer xsave avx f16c rdrand lahf_lm abm cpuid_fault epb invpcid_single pti retpoline spec_ctrl tpr_shadow vnmi flexpriority ept vpid fsgsbase tsc_adjust bmi1 avx2 smep bmi2 erms invpcid xsaveopt dtherm ida arat pln pts\r\n",
      "bugs\t\t: cpu_meltdown spectre_v1 spectre_v2\r\n",
      "bogomips\t: 4988.47\r\n",
      "clflush size\t: 64\r\n",
      "cache_alignment\t: 64\r\n",
      "address sizes\t: 39 bits physical, 48 bits virtual\r\n",
      "power management:\r\n",
      "\r\n",
      "processor\t: 1\r\n",
      "vendor_id\t: GenuineIntel\r\n",
      "cpu family\t: 6\r\n",
      "model\t\t: 60\r\n",
      "model name\t: Intel(R) Core(TM) i5-4200M CPU @ 2.50GHz\r\n",
      "stepping\t: 3\r\n",
      "microcode\t: 0x25\r\n",
      "cpu MHz\t\t: 2494.236\r\n",
      "cache size\t: 3072 KB\r\n",
      "physical id\t: 0\r\n",
      "siblings\t: 4\r\n",
      "core id\t\t: 0\r\n",
      "cpu cores\t: 2\r\n",
      "apicid\t\t: 1\r\n",
      "initial apicid\t: 1\r\n",
      "fpu\t\t: yes\r\n",
      "fpu_exception\t: yes\r\n",
      "cpuid level\t: 13\r\n",
      "wp\t\t: yes\r\n",
      "flags\t\t: fpu vme de pse tsc msr pae mce cx8 apic sep mtrr pge mca cmov pat pse36 clflush dts acpi mmx fxsr sse sse2 ss ht tm pbe syscall nx pdpe1gb rdtscp lm constant_tsc arch_perfmon pebs bts rep_good nopl xtopology nonstop_tsc cpuid aperfmperf pni pclmulqdq dtes64 monitor ds_cpl vmx est tm2 ssse3 sdbg fma cx16 xtpr pdcm pcid sse4_1 sse4_2 movbe popcnt tsc_deadline_timer xsave avx f16c rdrand lahf_lm abm cpuid_fault epb invpcid_single pti retpoline spec_ctrl tpr_shadow vnmi flexpriority ept vpid fsgsbase tsc_adjust bmi1 avx2 smep bmi2 erms invpcid xsaveopt dtherm ida arat pln pts\r\n",
      "bugs\t\t: cpu_meltdown spectre_v1 spectre_v2\r\n",
      "bogomips\t: 4988.47\r\n",
      "clflush size\t: 64\r\n",
      "cache_alignment\t: 64\r\n",
      "address sizes\t: 39 bits physical, 48 bits virtual\r\n",
      "power management:\r\n",
      "\r\n",
      "processor\t: 2\r\n",
      "vendor_id\t: GenuineIntel\r\n",
      "cpu family\t: 6\r\n",
      "model\t\t: 60\r\n",
      "model name\t: Intel(R) Core(TM) i5-4200M CPU @ 2.50GHz\r\n",
      "stepping\t: 3\r\n",
      "microcode\t: 0x25\r\n",
      "cpu MHz\t\t: 2494.236\r\n",
      "cache size\t: 3072 KB\r\n",
      "physical id\t: 0\r\n",
      "siblings\t: 4\r\n",
      "core id\t\t: 1\r\n",
      "cpu cores\t: 2\r\n",
      "apicid\t\t: 2\r\n",
      "initial apicid\t: 2\r\n",
      "fpu\t\t: yes\r\n",
      "fpu_exception\t: yes\r\n",
      "cpuid level\t: 13\r\n",
      "wp\t\t: yes\r\n",
      "flags\t\t: fpu vme de pse tsc msr pae mce cx8 apic sep mtrr pge mca cmov pat pse36 clflush dts acpi mmx fxsr sse sse2 ss ht tm pbe syscall nx pdpe1gb rdtscp lm constant_tsc arch_perfmon pebs bts rep_good nopl xtopology nonstop_tsc cpuid aperfmperf pni pclmulqdq dtes64 monitor ds_cpl vmx est tm2 ssse3 sdbg fma cx16 xtpr pdcm pcid sse4_1 sse4_2 movbe popcnt tsc_deadline_timer xsave avx f16c rdrand lahf_lm abm cpuid_fault epb invpcid_single pti retpoline spec_ctrl tpr_shadow vnmi flexpriority ept vpid fsgsbase tsc_adjust bmi1 avx2 smep bmi2 erms invpcid xsaveopt dtherm ida arat pln pts\r\n",
      "bugs\t\t: cpu_meltdown spectre_v1 spectre_v2\r\n",
      "bogomips\t: 4988.47\r\n",
      "clflush size\t: 64\r\n",
      "cache_alignment\t: 64\r\n",
      "address sizes\t: 39 bits physical, 48 bits virtual\r\n",
      "power management:\r\n",
      "\r\n",
      "processor\t: 3\r\n",
      "vendor_id\t: GenuineIntel\r\n",
      "cpu family\t: 6\r\n",
      "model\t\t: 60\r\n",
      "model name\t: Intel(R) Core(TM) i5-4200M CPU @ 2.50GHz\r\n",
      "stepping\t: 3\r\n",
      "microcode\t: 0x25\r\n",
      "cpu MHz\t\t: 2494.236\r\n",
      "cache size\t: 3072 KB\r\n",
      "physical id\t: 0\r\n",
      "siblings\t: 4\r\n",
      "core id\t\t: 1\r\n",
      "cpu cores\t: 2\r\n",
      "apicid\t\t: 3\r\n",
      "initial apicid\t: 3\r\n",
      "fpu\t\t: yes\r\n",
      "fpu_exception\t: yes\r\n",
      "cpuid level\t: 13\r\n",
      "wp\t\t: yes\r\n",
      "flags\t\t: fpu vme de pse tsc msr pae mce cx8 apic sep mtrr pge mca cmov pat pse36 clflush dts acpi mmx fxsr sse sse2 ss ht tm pbe syscall nx pdpe1gb rdtscp lm constant_tsc arch_perfmon pebs bts rep_good nopl xtopology nonstop_tsc cpuid aperfmperf pni pclmulqdq dtes64 monitor ds_cpl vmx est tm2 ssse3 sdbg fma cx16 xtpr pdcm pcid sse4_1 sse4_2 movbe popcnt tsc_deadline_timer xsave avx f16c rdrand lahf_lm abm cpuid_fault epb invpcid_single pti retpoline spec_ctrl tpr_shadow vnmi flexpriority ept vpid fsgsbase tsc_adjust bmi1 avx2 smep bmi2 erms invpcid xsaveopt dtherm ida arat pln pts\r\n",
      "bugs\t\t: cpu_meltdown spectre_v1 spectre_v2\r\n",
      "bogomips\t: 4988.47\r\n",
      "clflush size\t: 64\r\n",
      "cache_alignment\t: 64\r\n",
      "address sizes\t: 39 bits physical, 48 bits virtual\r\n",
      "power management:\r\n",
      "\r\n"
     ]
    }
   ],
   "source": [
    "!cat /proc/cpuinfo"
   ]
  },
  {
   "cell_type": "code",
   "execution_count": 3,
   "metadata": {},
   "outputs": [],
   "source": [
    "import jieba"
   ]
  },
  {
   "cell_type": "code",
   "execution_count": 4,
   "metadata": {},
   "outputs": [],
   "source": [
    "def cut(string): return ''.join(jieba.cut(string))"
   ]
  },
  {
   "cell_type": "code",
   "execution_count": 5,
   "metadata": {},
   "outputs": [],
   "source": [
    "import os"
   ]
  },
  {
   "cell_type": "code",
   "execution_count": 6,
   "metadata": {},
   "outputs": [
    {
     "ename": "NameError",
     "evalue": "name 'file_base' is not defined",
     "output_type": "error",
     "traceback": [
      "\u001b[0;31m---------------------------------------------------------------------------\u001b[0m",
      "\u001b[0;31mNameError\u001b[0m                                 Traceback (most recent call last)",
      "\u001b[0;32m<ipython-input-6-a3b69c5ef4c1>\u001b[0m in \u001b[0;36m<module>\u001b[0;34m\u001b[0m\n\u001b[1;32m      1\u001b[0m corpus = {\n\u001b[0;32m----> 2\u001b[0;31m     \u001b[0mcut\u001b[0m\u001b[0;34m(\u001b[0m\u001b[0mopen\u001b[0m\u001b[0;34m(\u001b[0m\u001b[0mos\u001b[0m\u001b[0;34m.\u001b[0m\u001b[0mpath\u001b[0m\u001b[0;34m.\u001b[0m\u001b[0mjoin\u001b[0m\u001b[0;34m(\u001b[0m\u001b[0mf\u001b[0m\u001b[0;34m)\u001b[0m\u001b[0;34m.\u001b[0m\u001b[0mread\u001b[0m\u001b[0;34m(\u001b[0m\u001b[0;34m)\u001b[0m\u001b[0;34m)\u001b[0m \u001b[0;32mfor\u001b[0m \u001b[0mf\u001b[0m \u001b[0;32min\u001b[0m \u001b[0mos\u001b[0m\u001b[0;34m.\u001b[0m\u001b[0mlistdir\u001b[0m\u001b[0;34m(\u001b[0m\u001b[0mfile_base\u001b[0m\u001b[0;34m)\u001b[0m\u001b[0;34m)\u001b[0m\u001b[0;34m\u001b[0m\u001b[0m\n\u001b[0m\u001b[1;32m      3\u001b[0m }\n",
      "\u001b[0;31mNameError\u001b[0m: name 'file_base' is not defined"
     ]
    }
   ],
   "source": [
    "corpus = {\n",
    "    cut(open(os.path.join(f).read()) for f in os.listdir(file_base))\n",
    "}"
   ]
  },
  {
   "cell_type": "code",
   "execution_count": 2,
   "metadata": {},
   "outputs": [],
   "source": [
    "from sklearn.feature_extraction.text import TfidfVectorizer"
   ]
  },
  {
   "cell_type": "code",
   "execution_count": null,
   "metadata": {},
   "outputs": [],
   "source": [
    "vectorizer = TfidfVectorizer()"
   ]
  },
  {
   "cell_type": "code",
   "execution_count": 7,
   "metadata": {},
   "outputs": [],
   "source": [
    "import requests"
   ]
  },
  {
   "cell_type": "code",
   "execution_count": 27,
   "metadata": {},
   "outputs": [],
   "source": [
    "response = requests.get('https://www.haodf.com/')"
   ]
  },
  {
   "cell_type": "code",
   "execution_count": 28,
   "metadata": {},
   "outputs": [],
   "source": [
    "import re"
   ]
  },
  {
   "cell_type": "code",
   "execution_count": 49,
   "metadata": {},
   "outputs": [],
   "source": [
    "urls = re.findall(r'class=\"black_link\".*?href=\"(.*?).htm\"',response.text)"
   ]
  },
  {
   "cell_type": "code",
   "execution_count": 33,
   "metadata": {},
   "outputs": [],
   "source": [
    "response.encoding = \"utf-8\""
   ]
  },
  {
   "cell_type": "code",
   "execution_count": 40,
   "metadata": {},
   "outputs": [
    {
     "name": "stdout",
     "output_type": "stream",
     "text": [
      "<bound method Response.json of <Response [403]>>\n"
     ]
    }
   ],
   "source": [
    "print(response.json)"
   ]
  },
  {
   "cell_type": "code",
   "execution_count": 41,
   "metadata": {},
   "outputs": [],
   "source": [
    "heads = {}\n",
    "heads['User-Agent'] = 'Mozilla/5.0 ' \\\n",
    "                          '(Macintosh; U; Intel Mac OS X 10_6_8; en-us) AppleWebKit/534.50 ' \\\n",
    "                          '(KHTML, like Gecko) Version/5.1 Safari/534.50'"
   ]
  },
  {
   "cell_type": "code",
   "execution_count": 43,
   "metadata": {},
   "outputs": [],
   "source": [
    "response = requests.get('https://www.haodf.com/',headers=heads)"
   ]
  },
  {
   "cell_type": "code",
   "execution_count": 50,
   "metadata": {},
   "outputs": [
    {
     "name": "stdout",
     "output_type": "stream",
     "text": [
      "['//www.haodf.com/jibing/yigan', '//www.haodf.com/jibing/tangniaobing', '//www.haodf.com/jibing/jiakang', '//www.haodf.com/jibing/weikuiyang', '//www.haodf.com/jibing/feiyan', '//www.haodf.com/jibing/xiaochuan', '//www.haodf.com/jibing/leifengshixingguanjieyan', '//www.haodf.com/jibing/hongbanlangchuang', '//www.haodf.com/jibing/pinxue', '//www.haodf.com/jibing/shenyan', '//www.haodf.com/jibing/naogengsi', '//www.haodf.com/jibing/qixiong', '//www.haodf.com/jibing/danjieshi', '//www.haodf.com/jibing/jingmaiquzhang', '//www.haodf.com/jibing/ruxianxianweiliu', '//www.haodf.com/jibing/shenjieshi', '//www.haodf.com/jibing/zhichuang', '//www.haodf.com/jibing/chunelie', '//www.haodf.com/jibing/sanchashenjingtong', '//www.haodf.com/jibing/jingzhuibing', '//www.haodf.com/jibing/guzhizengsheng', '//www.haodf.com/jibing/yaozhuijianpantuchu', '//www.haodf.com/jibing/guanxinbing', '//www.haodf.com/jibing/fengshixingxinzangbing', '//www.haodf.com/jibing/xiantianxingxinzangbing', '//www.haodf.com/jibing/fangchan', '//www.haodf.com/jibing/gaoxueya', '//www.haodf.com/jibing/xinjibing', '//www.haodf.com/jibing/xinlvbuqi', '//www.haodf.com/jibing/buyunbuyu', '//www.haodf.com/jibing/yuejingshitiao', '//www.haodf.com/jibing/penqiangyan', '//www.haodf.com/jibing/zigongjiliu', '//www.haodf.com/jibing/duonangluanchao', '//www.haodf.com/jibing/luanchaonangzhong', '//www.haodf.com/jibing/chanqianjiancha', '//www.haodf.com/jibing/xiaoerdianxian', '//www.haodf.com/jibing/xiaoerfuxie', '//www.haodf.com/jibing/xiaoerxiaochuan', '//www.haodf.com/jibing/xiaoershizhen', '//www.haodf.com/jibing/xiaoerduodongzheng', '//www.haodf.com/jibing/xiaoerxieshi', '//www.haodf.com/jibing/xinzaoshu', '//www.haodf.com/jibing/feiai', '//www.haodf.com/jibing/ganai', '//www.haodf.com/jibing/weiai', '//www.haodf.com/jibing/ruxianai', '//www.haodf.com/jibing/linbaliu', '//www.haodf.com/jibing/shenai', '//www.haodf.com/jibing/biyanai', '//www.haodf.com/jibing/qingguangyan', '//www.haodf.com/jibing/yahejixing', '//www.haodf.com/jibing/zhongeryan', '//www.haodf.com/jibing/baineizhang', '//www.haodf.com/jibing/jianruishiyou', '//www.haodf.com/jibing/yiyuzheng', '//www.haodf.com/jibing/xinlizixun']\n"
     ]
    }
   ],
   "source": [
    "print(urls)"
   ]
  },
  {
   "cell_type": "code",
   "execution_count": 54,
   "metadata": {},
   "outputs": [],
   "source": [
    "for n in range(len(urls)):\n",
    "    urls[n] = urls[n] + 'daifu_all_all_all_all_all.htm'\n",
    "    "
   ]
  },
  {
   "cell_type": "code",
   "execution_count": 55,
   "metadata": {},
   "outputs": [
    {
     "name": "stdout",
     "output_type": "stream",
     "text": [
      "['//www.haodf.com/jibing/yigandaifu_all_all_all_all_all.htm', '//www.haodf.com/jibing/tangniaobingdaifu_all_all_all_all_all.htm', '//www.haodf.com/jibing/jiakangdaifu_all_all_all_all_all.htm', '//www.haodf.com/jibing/weikuiyangdaifu_all_all_all_all_all.htm', '//www.haodf.com/jibing/feiyandaifu_all_all_all_all_all.htm', '//www.haodf.com/jibing/xiaochuandaifu_all_all_all_all_all.htm', '//www.haodf.com/jibing/leifengshixingguanjieyandaifu_all_all_all_all_all.htm', '//www.haodf.com/jibing/hongbanlangchuangdaifu_all_all_all_all_all.htm', '//www.haodf.com/jibing/pinxuedaifu_all_all_all_all_all.htm', '//www.haodf.com/jibing/shenyandaifu_all_all_all_all_all.htm', '//www.haodf.com/jibing/naogengsidaifu_all_all_all_all_all.htm', '//www.haodf.com/jibing/qixiongdaifu_all_all_all_all_all.htm', '//www.haodf.com/jibing/danjieshidaifu_all_all_all_all_all.htm', '//www.haodf.com/jibing/jingmaiquzhangdaifu_all_all_all_all_all.htm', '//www.haodf.com/jibing/ruxianxianweiliudaifu_all_all_all_all_all.htm', '//www.haodf.com/jibing/shenjieshidaifu_all_all_all_all_all.htm', '//www.haodf.com/jibing/zhichuangdaifu_all_all_all_all_all.htm', '//www.haodf.com/jibing/chuneliedaifu_all_all_all_all_all.htm', '//www.haodf.com/jibing/sanchashenjingtongdaifu_all_all_all_all_all.htm', '//www.haodf.com/jibing/jingzhuibingdaifu_all_all_all_all_all.htm', '//www.haodf.com/jibing/guzhizengshengdaifu_all_all_all_all_all.htm', '//www.haodf.com/jibing/yaozhuijianpantuchudaifu_all_all_all_all_all.htm', '//www.haodf.com/jibing/guanxinbingdaifu_all_all_all_all_all.htm', '//www.haodf.com/jibing/fengshixingxinzangbingdaifu_all_all_all_all_all.htm', '//www.haodf.com/jibing/xiantianxingxinzangbingdaifu_all_all_all_all_all.htm', '//www.haodf.com/jibing/fangchandaifu_all_all_all_all_all.htm', '//www.haodf.com/jibing/gaoxueyadaifu_all_all_all_all_all.htm', '//www.haodf.com/jibing/xinjibingdaifu_all_all_all_all_all.htm', '//www.haodf.com/jibing/xinlvbuqidaifu_all_all_all_all_all.htm', '//www.haodf.com/jibing/buyunbuyudaifu_all_all_all_all_all.htm', '//www.haodf.com/jibing/yuejingshitiaodaifu_all_all_all_all_all.htm', '//www.haodf.com/jibing/penqiangyandaifu_all_all_all_all_all.htm', '//www.haodf.com/jibing/zigongjiliudaifu_all_all_all_all_all.htm', '//www.haodf.com/jibing/duonangluanchaodaifu_all_all_all_all_all.htm', '//www.haodf.com/jibing/luanchaonangzhongdaifu_all_all_all_all_all.htm', '//www.haodf.com/jibing/chanqianjianchadaifu_all_all_all_all_all.htm', '//www.haodf.com/jibing/xiaoerdianxiandaifu_all_all_all_all_all.htm', '//www.haodf.com/jibing/xiaoerfuxiedaifu_all_all_all_all_all.htm', '//www.haodf.com/jibing/xiaoerxiaochuandaifu_all_all_all_all_all.htm', '//www.haodf.com/jibing/xiaoershizhendaifu_all_all_all_all_all.htm', '//www.haodf.com/jibing/xiaoerduodongzhengdaifu_all_all_all_all_all.htm', '//www.haodf.com/jibing/xiaoerxieshidaifu_all_all_all_all_all.htm', '//www.haodf.com/jibing/xinzaoshudaifu_all_all_all_all_all.htm', '//www.haodf.com/jibing/feiaidaifu_all_all_all_all_all.htm', '//www.haodf.com/jibing/ganaidaifu_all_all_all_all_all.htm', '//www.haodf.com/jibing/weiaidaifu_all_all_all_all_all.htm', '//www.haodf.com/jibing/ruxianaidaifu_all_all_all_all_all.htm', '//www.haodf.com/jibing/linbaliudaifu_all_all_all_all_all.htm', '//www.haodf.com/jibing/shenaidaifu_all_all_all_all_all.htm', '//www.haodf.com/jibing/biyanaidaifu_all_all_all_all_all.htm', '//www.haodf.com/jibing/qingguangyandaifu_all_all_all_all_all.htm', '//www.haodf.com/jibing/yahejixingdaifu_all_all_all_all_all.htm', '//www.haodf.com/jibing/zhongeryandaifu_all_all_all_all_all.htm', '//www.haodf.com/jibing/baineizhangdaifu_all_all_all_all_all.htm', '//www.haodf.com/jibing/jianruishiyoudaifu_all_all_all_all_all.htm', '//www.haodf.com/jibing/yiyuzhengdaifu_all_all_all_all_all.htm', '//www.haodf.com/jibing/xinlizixundaifu_all_all_all_all_all.htm']\n"
     ]
    }
   ],
   "source": []
  },
  {
   "cell_type": "code",
   "execution_count": null,
   "metadata": {},
   "outputs": [],
   "source": []
  }
 ],
 "metadata": {
  "kernelspec": {
   "display_name": "Python 3",
   "language": "python",
   "name": "python3"
  },
  "language_info": {
   "codemirror_mode": {
    "name": "ipython",
    "version": 3
   },
   "file_extension": ".py",
   "mimetype": "text/x-python",
   "name": "python",
   "nbconvert_exporter": "python",
   "pygments_lexer": "ipython3",
   "version": "3.5.2"
  }
 },
 "nbformat": 4,
 "nbformat_minor": 2
}
